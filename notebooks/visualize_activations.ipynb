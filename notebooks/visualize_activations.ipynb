{
 "cells": [
  {
   "cell_type": "markdown",
   "metadata": {},
   "source": [
    "Work in Progress ... to visualize internal activations"
   ]
  },
  {
   "cell_type": "code",
   "execution_count": 1,
   "metadata": {},
   "outputs": [
    {
     "name": "stderr",
     "output_type": "stream",
     "text": [
      "Using TensorFlow backend.\n"
     ]
    }
   ],
   "source": [
    "import os\n",
    "os.environ[\"CUDA_DEVICE_ORDER\"]=\"PCI_BUS_ID\"   # see issue #152\n",
    "os.environ[\"CUDA_VISIBLE_DEVICES\"]=\"1\"\n",
    "\n",
    "import numpy as np\n",
    "import itertools\n",
    "import json\n",
    "import pickle\n",
    "import random\n",
    "import sys\n",
    "\n",
    "import matplotlib.pyplot as plt\n",
    "%matplotlib inline\n",
    "\n",
    "from keras.models import model_from_json\n",
    "from keras import regularizers, optimizers\n",
    "from keras.utils import np_utils, to_categorical\n",
    "from keras.callbacks import EarlyStopping, ModelCheckpoint\n",
    "\n",
    "from sklearn.metrics import confusion_matrix\n",
    "from sklearn.metrics import classification_report\n",
    "from sklearn.preprocessing import StandardScaler\n",
    "\n",
    "import torch\n",
    "from torchvision.utils import make_grid\n",
    "\n",
    "import warnings\n",
    "def fxn():\n",
    "    warnings.warn(\"deprecated\", DeprecationWarning)\n",
    "with warnings.catch_warnings():\n",
    "    warnings.simplefilter(\"ignore\")\n",
    "    fxn()\n",
    "\n",
    "# Set path so that functions can be imported from the utils script\n",
    "sys.path.insert(0, '../')\n",
    "from preprocess import sample_timeseries\n",
    "from visualize import visualize_rgb, record_batch\n",
    "from constants import *\n",
    "import datasets\n",
    "import util\n",
    "import models"
   ]
  },
  {
   "cell_type": "code",
   "execution_count": 2,
   "metadata": {},
   "outputs": [],
   "source": [
    "train_parser = util.get_train_parser()\n",
    "args = train_parser.parse_args(['--model_name', 'fcn_crnn', \n",
    "                                '--dataset', 'full', \n",
    "                                '--num_classes', str(4),\n",
    "                                '--country', 'ghana',\n",
    "                                '--hdf5_filepath', '/home/data/ghana/data.hdf5',\n",
    "                                '--batch_size', str(5),\n",
    "                                '--hidden_dims', str(32),\n",
    "                                '--crnn_num_layers', str(1),\n",
    "                                '--use_s1', str(False),\n",
    "                                '--use_s2', str(True),\n",
    "                                '--sample_w_clouds', str(True),\n",
    "                                '--include_clouds', str(True),\n",
    "                                '--include_doy', str(True),\n",
    "                                '--bidirectional', str(False),\n",
    "                                '--shuffle', str(False)])\n"
   ]
  },
  {
   "cell_type": "code",
   "execution_count": 3,
   "metadata": {},
   "outputs": [
    {
     "name": "stderr",
     "output_type": "stream",
     "text": [
      "../models.py:38: UserWarning: nn.init.kaiming_normal is now deprecated in favor of nn.init.kaiming_normal_.\n",
      "  nn.init.kaiming_normal(module.weight)\n"
     ]
    },
    {
     "ename": "NameError",
     "evalue": "name 'fcn_crnn_model_path' is not defined",
     "output_type": "error",
     "traceback": [
      "\u001b[0;31m---------------------------------------------------------------------------\u001b[0m",
      "\u001b[0;31mNameError\u001b[0m                                 Traceback (most recent call last)",
      "\u001b[0;32m<ipython-input-3-20566af25bef>\u001b[0m in \u001b[0;36m<module>\u001b[0;34m\u001b[0m\n\u001b[1;32m      1\u001b[0m \u001b[0mmodel_name\u001b[0m \u001b[0;34m=\u001b[0m \u001b[0;34m'fcn_crnn'\u001b[0m\u001b[0;34m\u001b[0m\u001b[0m\n\u001b[1;32m      2\u001b[0m \u001b[0mfcn_crnn_model\u001b[0m \u001b[0;34m=\u001b[0m \u001b[0mmodels\u001b[0m\u001b[0;34m.\u001b[0m\u001b[0mget_model\u001b[0m\u001b[0;34m(\u001b[0m\u001b[0;34m**\u001b[0m\u001b[0mvars\u001b[0m\u001b[0;34m(\u001b[0m\u001b[0margs\u001b[0m\u001b[0;34m)\u001b[0m\u001b[0;34m)\u001b[0m\u001b[0;34m\u001b[0m\u001b[0m\n\u001b[0;32m----> 3\u001b[0;31m \u001b[0mfcn_crnn_model\u001b[0m\u001b[0;34m.\u001b[0m\u001b[0mload_state_dict\u001b[0m\u001b[0;34m(\u001b[0m\u001b[0mtorch\u001b[0m\u001b[0;34m.\u001b[0m\u001b[0mload\u001b[0m\u001b[0;34m(\u001b[0m\u001b[0mfcn_crnn_model_path\u001b[0m\u001b[0;34m)\u001b[0m\u001b[0;34m)\u001b[0m\u001b[0;34m\u001b[0m\u001b[0m\n\u001b[0m\u001b[1;32m      4\u001b[0m \u001b[0mfcn_crnn_model\u001b[0m\u001b[0;34m.\u001b[0m\u001b[0meval\u001b[0m\u001b[0;34m(\u001b[0m\u001b[0;34m)\u001b[0m\u001b[0;34m\u001b[0m\u001b[0m\n\u001b[1;32m      5\u001b[0m \u001b[0;34m\u001b[0m\u001b[0m\n",
      "\u001b[0;31mNameError\u001b[0m: name 'fcn_crnn_model_path' is not defined"
     ]
    }
   ],
   "source": [
    "model_name = 'fcn_crnn'\n",
    "fcn_crnn_model = models.get_model(**vars(args))\n",
    "fcn_crnn_model.load_state_dict(torch.load(fcn_crnn_model_path))\n",
    "fcn_crnn_model.eval()\n",
    "  \n",
    "batch_num = 0\n",
    "while batch_num < len(test_fnames):\n",
    "    for inputs, targets, cloudmasks in dl:\n",
    "        preds = fcn_crnn_model(inputs)\n",
    "        labels_grid, inputs_grid, targets_grid, preds_grid, predsmask_grid = record_batch(\n",
    "                                                                           inputs, cloudmasks, targets, preds, #<< preds\n",
    "                                                                           args.num_classes, split, vis_data, \n",
    "                                                                           vis, args.include_doy, args.use_s1, \n",
    "                                                                           args.use_s2, model_name, args.time_slice, \n",
    "                                                                           save=False, save_dir=None, \n",
    "                                                                           show_visdom=False, show_matplot=True)"
   ]
  },
  {
   "cell_type": "code",
   "execution_count": null,
   "metadata": {},
   "outputs": [],
   "source": []
  }
 ],
 "metadata": {
  "kernelspec": {
   "display_name": "Python [default]",
   "language": "python",
   "name": "python3"
  },
  "language_info": {
   "codemirror_mode": {
    "name": "ipython",
    "version": 3
   },
   "file_extension": ".py",
   "mimetype": "text/x-python",
   "name": "python",
   "nbconvert_exporter": "python",
   "pygments_lexer": "ipython3",
   "version": "3.6.6"
  }
 },
 "nbformat": 4,
 "nbformat_minor": 2
}
