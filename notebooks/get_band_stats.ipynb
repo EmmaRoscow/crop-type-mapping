{
 "cells": [
  {
   "cell_type": "code",
   "execution_count": null,
   "metadata": {},
   "outputs": [],
   "source": [
    "import sys \n",
    "import datetime\n",
    "\n",
    "sys.path.insert(0, '../')\n",
    "\n",
    "from constants import * \n",
    "import datasets\n",
    "import loss_fns\n",
    "import models\n",
    "import util"
   ]
  },
  {
   "cell_type": "code",
   "execution_count": null,
   "metadata": {},
   "outputs": [],
   "source": [
    "def keep_track(cur_count, cur_sum, cur_sq_sum, inputs):\n",
    "    for band_idx in range(inputs.shape[2]):\n",
    "        cur_band = inputs[:, :, band_idx, :, :]\n",
    "        cur_count[band_idx] += len(cur_band.flatten())\n",
    "        cur_sum[band_idx] += np.sum(cur_band)\n",
    "        cur_sq_sum[band_idx] += np.sum(cur_band**2)\n",
    "    return cur_count, cur_sum, cur_sq_sum"
   ]
  },
  {
   "cell_type": "code",
   "execution_count": null,
   "metadata": {},
   "outputs": [],
   "source": [
    "def load_data(model_name, args=None, dataloaders=None, X=None, y=None):\n",
    "    \"\"\" Trains the model on the inputs\n",
    "    \n",
    "    Args:\n",
    "        model - trainable model\n",
    "        model_name - (str) name of the model\n",
    "        args - (argparse object) args parsed in from main; used only for DL models\n",
    "        dataloaders - (dict of dataloaders) used only for DL models\n",
    "        X - (npy arr) data for non-dl models\n",
    "        y - (npy arr) labels for non-dl models\n",
    "    \"\"\"\n",
    "    if model_name in DL_MODELS:\n",
    "        N = None\n",
    "        for split in ['train']:\n",
    "            dl = dataloaders[split]\n",
    "            for inputs, targets, cloudmasks in dl:\n",
    "                if N is None:\n",
    "                    N = np.zeros((inputs.numpy().shape[2],))\n",
    "                    S = np.zeros((inputs.numpy().shape[2],))\n",
    "                    Q = np.zeros((inputs.numpy().shape[2],))\n",
    "                    \n",
    "                N, S, Q = keep_track(N, S, Q, inputs.numpy())\n",
    "                    \n",
    "    return N, S, Q"
   ]
  },
  {
   "cell_type": "code",
   "execution_count": null,
   "metadata": {},
   "outputs": [],
   "source": [
    "# train model\n",
    "means_list = []\n",
    "stds_list = []\n",
    "\n",
    "count = 0\n",
    "while count < 1:\n",
    "    print('count: ', count)\n",
    "    \n",
    "    train_parser = util.get_train_parser()\n",
    "    args = train_parser.parse_args(['--epochs', str(1),\n",
    "                                '--model_name', 'fcn_crnn',\n",
    "                                '--dataset', 'full', \n",
    "                                '--num_classes', str(4),\n",
    "                                '--country', 'ghana',\n",
    "                                '--batch_size', str(1),\n",
    "                                '--hidden_dims', str(4),\n",
    "                                '--crnn_num_layers', str(1),\n",
    "                                '--use_s1', str(True),\n",
    "                                '--use_s2', str(True),\n",
    "                                '--sample_w_clouds', str(False),\n",
    "                                '--include_clouds', str(True),\n",
    "                                '--include_doy', str(True),\n",
    "                                '--bidirectional', str(False), \n",
    "                                '--shuffle', str(False),\n",
    "                                '--normalize', str(False),\n",
    "                                '--apply_transforms', str(False),\n",
    "                                '--least_cloudy', str(False)])\n",
    "    \n",
    "    # load in data generator\n",
    "    dataloaders = datasets.get_dataloaders(args.country, args.dataset, args)\n",
    "\n",
    "    N, S, Q = load_data(args.model_name, args, dataloaders=dataloaders)\n",
    "    means = S / N \n",
    "    stds = np.sqrt( (Q / N) - (S / N)**2 )\n",
    "    \n",
    "    print(means)\n",
    "    print(stds)\n",
    "    \n",
    "    means_list.append(means)\n",
    "    stds_list.append(stds)\n",
    "    count += 1"
   ]
  },
  {
   "cell_type": "code",
   "execution_count": null,
   "metadata": {},
   "outputs": [],
   "source": [
    "bnd_means = np.vstack(means_list)\n",
    "print(\"Means: \", np.mean(bnd_means, axis=0))\n",
    "print(\"+/- : \", np.std(bnd_means, axis=0))\n",
    "\n",
    "bnd_stds = np.vstack(stds_list)\n",
    "\n",
    "print(\"Stdevs: \", np.mean(bnd_stds, axis=0))\n",
    "print(\"+/- : \", np.std(bnd_stds, axis=0))"
   ]
  }
 ],
 "metadata": {
  "kernelspec": {
   "display_name": "Python [default]",
   "language": "python",
   "name": "python3"
  },
  "language_info": {
   "codemirror_mode": {
    "name": "ipython",
    "version": 3
   },
   "file_extension": ".py",
   "mimetype": "text/x-python",
   "name": "python",
   "nbconvert_exporter": "python",
   "pygments_lexer": "ipython3",
   "version": "3.6.6"
  }
 },
 "nbformat": 4,
 "nbformat_minor": 2
}
