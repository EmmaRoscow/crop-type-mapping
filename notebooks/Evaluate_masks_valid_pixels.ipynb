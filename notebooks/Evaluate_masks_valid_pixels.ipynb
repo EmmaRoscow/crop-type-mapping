{
 "cells": [
  {
   "cell_type": "code",
   "execution_count": 1,
   "metadata": {},
   "outputs": [],
   "source": [
    "import os\n",
    "import numpy as np\n",
    "import pickle\n",
    "import rasterio\n",
    "from collections import Counter\n",
    "import json\n",
    "\n",
    "import matplotlib.pyplot as plt\n",
    "%matplotlib inline"
   ]
  },
  {
   "cell_type": "code",
   "execution_count": 2,
   "metadata": {},
   "outputs": [],
   "source": [
    "def get_empty_grids(home, countries, sources, verbose):\n",
    "    \"\"\"\n",
    "    Provides data from input .tif files depending on function input parameters. \n",
    "    \n",
    "    Args:\n",
    "      home - (str) the base directory of data\n",
    "\n",
    "      countries - (list of str) list of strings that point to the directory names\n",
    "                  of the different countries (i.e. ['Ghana', 'Tanzania', 'SouthSudan'])\n",
    "\n",
    "      verbose - (boolean) prints outputs from function\n",
    "\n",
    "    \"\"\"\n",
    "\n",
    "    mask_pixels_list = []\n",
    "    empty_masks = []\n",
    "    for country in countries:\n",
    "        mask_fnames = [os.path.join(home, country, 'raster_64x64', f) for f in os.listdir(os.path.join(home, country, 'raster_64x64')) if f.endswith('.tif')]\n",
    "        mask_ids = [f.split('_')[-1].replace('.tif', '') for f in mask_fnames]\n",
    "\n",
    "        mask_fnames.sort()\n",
    "        mask_ids.sort()\n",
    "\n",
    "        assert len(mask_fnames) == len(mask_ids)\n",
    "\n",
    "        for mask_fname, mask_id in zip(mask_fnames, mask_ids):\n",
    "            with rasterio.open(mask_fname) as src:\n",
    "                cur_mask = src.read()\n",
    "                valid_pixels = np.sum(cur_mask > 0)\n",
    "                mask_pixels_list.append((mask_id, valid_pixels))\n",
    "                if valid_pixels == 0:\n",
    "                    empty_masks.append(mask_id)\n",
    "\n",
    "        for source in sources:\n",
    "            cur_path = os.path.join(home, country, source)\n",
    "            files = [os.path.join(cur_path, f) for f in os.listdir(cur_path) if f.endswith('.tif')]\n",
    "            grid_numbers = [f.split('_')[-2] for f in files]\n",
    "            grid_numbers.sort()\n",
    "\n",
    "        delete_me = []\n",
    "        all_ids = set(empty_masks + grid_numbers)\n",
    "        for el in all_ids:\n",
    "            if el in empty_masks and el in grid_numbers:\n",
    "                delete_me.append(el)\n",
    "\n",
    "        delete_me.sort()\n",
    "\n",
    "        print('valid pixels list: ', len(mask_pixels_list))\n",
    "        print('empty masks: ', len(empty_masks))\n",
    "        print('delete me: ', len(delete_me))\n",
    "        print('delete me: ', delete_me)\n",
    "        \n",
    "    return mask_pixels_list\n"
   ]
  },
  {
   "cell_type": "code",
   "execution_count": 4,
   "metadata": {},
   "outputs": [
    {
     "name": "stdout",
     "output_type": "stream",
     "text": [
      "valid pixels list:  7569\n",
      "empty masks:  3529\n",
      "delete me:  32\n",
      "delete me:  ['000001', '000004', '000008', '000011', '000013', '000044', '000069', '000072', '000102', '000117', '000157', '000159', '000167', '000172', '000173', '000176', '000178', '000179', '000187', '000189', '001754', '001792', '001793', '001797', '004429', '004441', '004451', '004501', '004506', '004508', '004511', '004514']\n",
      "--------------------------\n",
      "valid pixels list:  7569\n",
      "empty masks:  3529\n",
      "delete me:  45\n",
      "delete me:  ['000001', '000004', '000008', '000011', '000013', '000044', '000069', '000072', '000102', '000117', '000157', '000159', '000167', '000172', '000173', '000176', '000178', '000179', '000187', '000189', '000198', '000203', '000216', '004429', '004441', '004451', '004501', '004506', '004508', '004511', '004514', '004529', '004588', '004926', '004929', '004941', '004961', '004962', '004963', '004964', '004966', '004967', '004968', '004969', '004977']\n"
     ]
    }
   ],
   "source": [
    "home = '/home/data'\n",
    "countries = ['Ghana']\n",
    "sources = ['s2_64x64']\n",
    "verbose = 1\n",
    "\n",
    "mask_pixels_list = get_empty_grids(home, countries, sources, verbose)\n",
    "\n",
    "print('--------------------------')\n",
    "\n",
    "home = '/home/data'\n",
    "countries = ['Ghana']\n",
    "sources = ['s1_64x64']\n",
    "verbose = 1\n",
    "\n",
    "mask_pixels_list = get_empty_grids(home, countries, sources, verbose)"
   ]
  },
  {
   "cell_type": "code",
   "execution_count": 22,
   "metadata": {},
   "outputs": [
    {
     "data": {
      "text/plain": [
       "(7569, 2)"
      ]
     },
     "execution_count": 22,
     "metadata": {},
     "output_type": "execute_result"
    }
   ],
   "source": [
    "mask_pixels_arr = np.array(mask_pixels_list)\n",
    "mask_pixels_arr.shape"
   ]
  },
  {
   "cell_type": "code",
   "execution_count": 23,
   "metadata": {},
   "outputs": [
    {
     "data": {
      "text/plain": [
       "(4040,)"
      ]
     },
     "execution_count": 23,
     "metadata": {},
     "output_type": "execute_result"
    }
   ],
   "source": [
    "mask_pix_sub = mask_pixels_arr[:,1].astype(int)\n",
    "mask_pix_sub = mask_pix_sub[mask_pix_sub != 0]\n",
    "mask_pix_sub.shape"
   ]
  },
  {
   "cell_type": "code",
   "execution_count": 24,
   "metadata": {},
   "outputs": [
    {
     "data": {
      "image/png": "[encoded data removed]",
      "text/plain": [
       "<Figure size 432x288 with 1 Axes>"
      ]
     },
     "metadata": {
      "needs_background": "light"
     },
     "output_type": "display_data"
    }
   ],
   "source": [
    "plt.hist(mask_pix_sub, bins=50) \n",
    "plt.title(\"Histogram for # of valid pixels in each grid\")\n",
    "plt.show()"
   ]
  },
  {
   "cell_type": "code",
   "execution_count": 14,
   "metadata": {},
   "outputs": [
    {
     "name": "stdout",
     "output_type": "stream",
     "text": [
      "Less than 10 pixels:  138\n",
      "Less than 20 pixels:  267\n",
      "Less than 30 pixels:  363\n",
      "Less than 40 pixels:  459\n",
      "Less than 50 pixels:  582\n",
      "Less than 100 pixels:  1094\n"
     ]
    }
   ],
   "source": [
    "valid_pix_numbers = mask_pixels_arr[:,1].astype(int)\n",
    "print('Less than 10 pixels: ', np.sum((valid_pix_numbers < 10) * (valid_pix_numbers > 0)))\n",
    "print('Less than 20 pixels: ', np.sum((valid_pix_numbers < 20) * (valid_pix_numbers > 0)))\n",
    "print('Less than 30 pixels: ', np.sum((valid_pix_numbers < 30) * (valid_pix_numbers > 0)))\n",
    "print('Less than 40 pixels: ', np.sum((valid_pix_numbers < 40) * (valid_pix_numbers > 0)))\n",
    "print('Less than 50 pixels: ', np.sum((valid_pix_numbers < 50) * (valid_pix_numbers > 0)))\n",
    "print('Less than 100 pixels: ', np.sum((valid_pix_numbers < 100) * (valid_pix_numbers > 0)))"
   ]
  },
  {
   "cell_type": "code",
   "execution_count": null,
   "metadata": {},
   "outputs": [],
   "source": []
  }
 ],
 "metadata": {
  "kernelspec": {
   "display_name": "Python [default]",
   "language": "python",
   "name": "python3"
  },
  "language_info": {
   "codemirror_mode": {
    "name": "ipython",
    "version": 3
   },
   "file_extension": ".py",
   "mimetype": "text/x-python",
   "name": "python",
   "nbconvert_exporter": "python",
   "pygments_lexer": "ipython3",
   "version": "3.6.6"
  }
 },
 "nbformat": 4,
 "nbformat_minor": 2
}
