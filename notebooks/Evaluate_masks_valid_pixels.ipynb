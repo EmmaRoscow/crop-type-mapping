{
 "cells": [
  {
   "cell_type": "code",
   "execution_count": null,
   "metadata": {},
   "outputs": [],
   "source": [
    "import os\n",
    "import numpy as np\n",
    "import pickle\n",
    "import rasterio\n",
    "from collections import Counter\n",
    "import json\n",
    "\n",
    "import matplotlib.pyplot as plt\n",
    "%matplotlib inline"
   ]
  },
  {
   "cell_type": "code",
   "execution_count": null,
   "metadata": {},
   "outputs": [],
   "source": [
    "def get_grid_nums(home, country, source):\n",
    "    cur_path = os.path.join(home, country, source)\n",
    "    files = [os.path.join(cur_path, f) for f in os.listdir(cur_path) if f.endswith('.npy')]\n",
    "    grid_numbers = [f.split('_')[-1].replace('.npy', '') for f in files]\n",
    "    grid_numbers.sort()\n",
    "    return grid_numbers"
   ]
  },
  {
   "cell_type": "code",
   "execution_count": null,
   "metadata": {},
   "outputs": [],
   "source": [
    "home = '/home/data'\n",
    "\n",
    "s1_grid_numbers = get_grid_nums(home, 'Ghana', 's1_64x64_npy')\n",
    "s2_grid_numbers = get_grid_nums(home, 'Ghana', 's2_64x64_npy')\n",
    "\n",
    "s1_grid_numbers.sort()\n",
    "\n",
    "only_in_one = []\n",
    "all_grid_nums = set(s1_grid_numbers + s2_grid_numbers)\n",
    "for grid_num in all_grid_nums:\n",
    "    if grid_num not in s1_grid_numbers or grid_num not in s2_grid_numbers:\n",
    "        only_in_one.append(grid_num)\n",
    "        \n",
    "print(only_in_one)"
   ]
  },
  {
   "cell_type": "code",
   "execution_count": null,
   "metadata": {},
   "outputs": [],
   "source": [
    "s2_grid_numbers.sort()\n",
    "print(s1_grid_numbers)"
   ]
  },
  {
   "cell_type": "code",
   "execution_count": null,
   "metadata": {},
   "outputs": [],
   "source": []
  },
  {
   "cell_type": "code",
   "execution_count": null,
   "metadata": {},
   "outputs": [],
   "source": [
    "def get_empty_grids(home, countries, sources, verbose):\n",
    "    \"\"\"\n",
    "    Provides data from input .tif files depending on function input parameters. \n",
    "    \n",
    "    Args:\n",
    "      home - (str) the base directory of data\n",
    "\n",
    "      countries - (list of str) list of strings that point to the directory names\n",
    "                  of the different countries (i.e. ['Ghana', 'Tanzania', 'SouthSudan'])\n",
    "\n",
    "      verbose - (boolean) prints outputs from function\n",
    "\n",
    "    \"\"\"\n",
    "\n",
    "    mask_pixels_list = []\n",
    "    empty_masks = []\n",
    "    for country in countries:\n",
    "        mask_fnames = [os.path.join(home, country, 'raster_64x64', f) for f in os.listdir(os.path.join(home, country, 'raster_64x64')) if f.endswith('.tif')]\n",
    "        mask_ids = [f.split('_')[-1].replace('.tif', '') for f in mask_fnames]\n",
    "\n",
    "        mask_fnames.sort()\n",
    "        mask_ids.sort()\n",
    "\n",
    "        assert len(mask_fnames) == len(mask_ids)\n",
    "\n",
    "        for mask_fname, mask_id in zip(mask_fnames, mask_ids):\n",
    "            with rasterio.open(mask_fname) as src:\n",
    "                cur_mask = src.read()\n",
    "                valid_pixels = np.sum(cur_mask > 0)\n",
    "                mask_pixels_list.append((mask_id, valid_pixels))\n",
    "                if valid_pixels == 0:\n",
    "                    empty_masks.append(mask_id)\n",
    "\n",
    "        for source in sources:\n",
    "            cur_path = os.path.join(home, country, source)\n",
    "            files = [os.path.join(cur_path, f) for f in os.listdir(cur_path) if f.endswith('.tif')]\n",
    "            grid_numbers = [f.split('_')[-2] for f in files]\n",
    "            grid_numbers.sort()\n",
    "\n",
    "        delete_me = []\n",
    "        all_ids = set(empty_masks + grid_numbers)\n",
    "        for el in all_ids:\n",
    "            if el in empty_masks and el in grid_numbers:\n",
    "                delete_me.append(el)\n",
    "\n",
    "        delete_me.sort()\n",
    "\n",
    "        print('valid pixels list: ', len(mask_pixels_list))\n",
    "        print('empty masks: ', len(empty_masks))\n",
    "        print('delete me: ', len(delete_me))\n",
    "        print('delete me: ', delete_me)\n",
    "        \n",
    "    return mask_pixels_list\n"
   ]
  },
  {
   "cell_type": "code",
   "execution_count": null,
   "metadata": {},
   "outputs": [],
   "source": [
    "home = '/home/data'\n",
    "countries = ['Ghana']\n",
    "sources = ['s2_64x64']\n",
    "verbose = 1\n",
    "\n",
    "mask_pixels_list = get_empty_grids(home, countries, sources, verbose)\n",
    "\n",
    "print('--------------------------')\n",
    "\n",
    "home = '/home/data'\n",
    "countries = ['Ghana']\n",
    "sources = ['s1_64x64']\n",
    "verbose = 1\n",
    "\n",
    "mask_pixels_list = get_empty_grids(home, countries, sources, verbose)"
   ]
  },
  {
   "cell_type": "code",
   "execution_count": null,
   "metadata": {},
   "outputs": [],
   "source": [
    "mask_pixels_arr = np.array(mask_pixels_list)\n",
    "mask_pixels_arr.shape"
   ]
  },
  {
   "cell_type": "code",
   "execution_count": null,
   "metadata": {},
   "outputs": [],
   "source": [
    "mask_pix_sub = mask_pixels_arr[:,1].astype(int)\n",
    "mask_pix_sub = mask_pix_sub[mask_pix_sub != 0]\n",
    "mask_pix_sub.shape"
   ]
  },
  {
   "cell_type": "code",
   "execution_count": null,
   "metadata": {},
   "outputs": [],
   "source": [
    "plt.hist(mask_pix_sub, bins=50) \n",
    "plt.title(\"Histogram for # of valid pixels in each grid\")\n",
    "plt.show()"
   ]
  },
  {
   "cell_type": "code",
   "execution_count": null,
   "metadata": {},
   "outputs": [],
   "source": [
    "valid_pix_numbers = mask_pixels_arr[:,1].astype(int)\n",
    "print('Less than 10 pixels: ', np.sum((valid_pix_numbers < 10) * (valid_pix_numbers > 0)))\n",
    "print('Less than 20 pixels: ', np.sum((valid_pix_numbers < 20) * (valid_pix_numbers > 0)))\n",
    "print('Less than 30 pixels: ', np.sum((valid_pix_numbers < 30) * (valid_pix_numbers > 0)))\n",
    "print('Less than 40 pixels: ', np.sum((valid_pix_numbers < 40) * (valid_pix_numbers > 0)))\n",
    "print('Less than 50 pixels: ', np.sum((valid_pix_numbers < 50) * (valid_pix_numbers > 0)))\n",
    "print('Less than 100 pixels: ', np.sum((valid_pix_numbers < 100) * (valid_pix_numbers > 0)))"
   ]
  },
  {
   "cell_type": "code",
   "execution_count": null,
   "metadata": {},
   "outputs": [],
   "source": []
  }
 ],
 "metadata": {
  "kernelspec": {
   "display_name": "Python [default]",
   "language": "python",
   "name": "python3"
  },
  "language_info": {
   "codemirror_mode": {
    "name": "ipython",
    "version": 3
   },
   "file_extension": ".py",
   "mimetype": "text/x-python",
   "name": "python",
   "nbconvert_exporter": "python",
   "pygments_lexer": "ipython3",
   "version": "3.6.6"
  }
 },
 "nbformat": 4,
 "nbformat_minor": 2
}
