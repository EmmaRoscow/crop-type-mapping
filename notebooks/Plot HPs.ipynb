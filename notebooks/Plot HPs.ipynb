{
 "cells": [
  {
   "cell_type": "code",
   "execution_count": null,
   "metadata": {},
   "outputs": [],
   "source": [
    "import pickle\n",
    "import operator as op\n",
    "import matplotlib.pyplot as plt\n",
    "import seaborn as sns\n",
    "import os\n",
    "import sys\n",
    "\n",
    "sys.path.insert(1, os.path.join(sys.path[0], '..'))\n",
    "\n",
    "\n",
    "from collections import defaultdict\n",
    "from constants import *\n",
    "\n",
    "sns.set()"
   ]
  },
  {
   "cell_type": "code",
   "execution_count": null,
   "metadata": {},
   "outputs": [],
   "source": [
    "def make_boxplots(data_dict, hp_name, perf_measure, log_scaling):\n",
    "    sorted_keys, sorted_vals = zip(*sorted(data_dict.items(), key=op.itemgetter(0)))\n",
    "    ax = sns.boxplot(data=sorted_vals)\n",
    "    ax = sns.swarmplot(data=sorted_vals, color=\".25\")\n",
    "    ax.set(xlabel=hp_name, ylabel=perf_measure)\n",
    "    plt.xticks(plt.xticks()[0], sorted_keys)\n",
    "    plt.show()\n",
    "\n",
    "def make_scatterplot(x, y, hp_name, perf_measure, log_scaling):\n",
    "    ax = sns.scatterplot(x=x, y=y)     \n",
    "    ax.set(xlabel=hp_name, ylabel=perf_measure)\n",
    "    if log_scaling:\n",
    "        ax.set_xscale(\"log\")\n",
    "        ax.set_xlim([min(x), max(x)])\n",
    "    plt.show()\n",
    "    "
   ]
  },
  {
   "cell_type": "code",
   "execution_count": null,
   "metadata": {},
   "outputs": [],
   "source": [
    "def plot_hps(hps_pkl_path):\n",
    "    with open(hps_pkl_path, 'rb') as hps_pkl:\n",
    "        hps = pickle.load(hps_pkl)\n",
    "        for hp in hps:\n",
    "            results = hps[hp]\n",
    "            if hp in STRING_HP or hp in INT_HP or hp in INT_POWER_EXP or hp in BOOL_HP:\n",
    "                acc_results = defaultdict(list)\n",
    "                loss_results = defaultdict(list)\n",
    "                for result in results:\n",
    "                    # TODO: Use maps instead of dicts to allow for other metrics / non-hardcoded\n",
    "                    acc_results[result[0]].append(result[2])\n",
    "                    loss_results[result[0]].append(result[1])\n",
    "                \n",
    "                make_boxplots(acc_results, hp, \"f1\", log_scaling = hp in INT_POWER_EXP)\n",
    "                make_boxplots(loss_results, hp, \"loss\", log_scaling = hp in INT_POWER_EXP)\n",
    "                \n",
    "                # create scatter plots for all the different values\n",
    "            \n",
    "            if hp in FLOAT_HP or hp in REAL_POWER_EXP:\n",
    "                    \n",
    "                vals = [result[0] for result in results]\n",
    "                \n",
    "                loss_results = [result[1] for result in results]\n",
    "                acc_results = [result[2] for result in results]\n",
    "                \n",
    "                make_scatterplot(vals, loss_results, hp, \"loss\", log_scaling = hp in REAL_POWER_EXP)\n",
    "                make_scatterplot(vals, acc_results, hp, \"f1\", log_scaling = hp in REAL_POWER_EXP)\n",
    "            \n",
    "            \n",
    "            "
   ]
  },
  {
   "cell_type": "code",
   "execution_count": null,
   "metadata": {
    "scrolled": false
   },
   "outputs": [],
   "source": [
    "plot_hps('/home/robin/Documents/robin/crop-type-mapping/ghana_fcn_crnn_least_cloudy.pkl')"
   ]
  },
  {
   "cell_type": "code",
   "execution_count": null,
   "metadata": {},
   "outputs": [],
   "source": []
  }
 ],
 "metadata": {
  "kernelspec": {
   "display_name": "Python [default]",
   "language": "python",
   "name": "python3"
  },
  "language_info": {
   "codemirror_mode": {
    "name": "ipython",
    "version": 3
   },
   "file_extension": ".py",
   "mimetype": "text/x-python",
   "name": "python",
   "nbconvert_exporter": "python",
   "pygments_lexer": "ipython3",
   "version": "3.6.6"
  }
 },
 "nbformat": 4,
 "nbformat_minor": 2
}
